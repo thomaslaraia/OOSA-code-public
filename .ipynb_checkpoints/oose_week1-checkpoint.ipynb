{
 "cells": [
  {
   "cell_type": "code",
   "execution_count": 23,
   "id": "20fc4699-4b3a-4ec5-a74f-b48762439e28",
   "metadata": {},
   "outputs": [
    {
     "name": "stdout",
     "output_type": "stream",
     "text": [
      "[0.168 0.663 0.949 0.583 0.073 0.363 0.877 0.449 0.763 0.917]\n",
      "[0.073 0.168 0.363 0.449 0.583 0.663 0.763 0.877 0.917 0.949]\n"
     ]
    }
   ],
   "source": [
    "import numpy as np\n",
    "np.set_printoptions(precision=3)\n",
    "\n",
    "def random_data(n):\n",
    "    return np.random.random((n))\n",
    "\n",
    "def find_minimum(data):\n",
    "    return min(data)\n",
    "\n",
    "def sort_array(data):\n",
    "    new_data = np.array([])\n",
    "    for _ in range(len(data)):\n",
    "        m = find_minimum(data)\n",
    "        new_data = np.append(new_data, m)\n",
    "        data = data[data>m]\n",
    "    return new_data\n",
    "\n",
    "data = random_data(10)\n",
    "print(data)\n",
    "print(sort_array(data))"
   ]
  },
  {
   "cell_type": "code",
   "execution_count": 1,
   "id": "7e5029e8-8ae6-46a5-aed6-10db7245459d",
   "metadata": {},
   "outputs": [
    {
     "data": {
      "text/plain": [
       "[1, 2, 3, 4, 5]"
      ]
     },
     "execution_count": 1,
     "metadata": {},
     "output_type": "execute_result"
    }
   ],
   "source": [
    "sorted([5,2,3,1,4])"
   ]
  },
  {
   "cell_type": "code",
   "execution_count": null,
   "id": "f19e0d58-9168-4662-b5e0-f345dbe0db6d",
   "metadata": {},
   "outputs": [],
   "source": []
  }
 ],
 "metadata": {
  "kernelspec": {
   "display_name": "Python 3 (ipykernel)",
   "language": "python",
   "name": "python3"
  },
  "language_info": {
   "codemirror_mode": {
    "name": "ipython",
    "version": 3
   },
   "file_extension": ".py",
   "mimetype": "text/x-python",
   "name": "python",
   "nbconvert_exporter": "python",
   "pygments_lexer": "ipython3",
   "version": "3.11.8"
  }
 },
 "nbformat": 4,
 "nbformat_minor": 5
}
